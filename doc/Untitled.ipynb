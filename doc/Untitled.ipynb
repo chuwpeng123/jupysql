{
 "cells": [
  {
   "cell_type": "code",
   "execution_count": 1,
   "id": "bb14f318-10ee-47ac-b8c3-86cb21dbf0aa",
   "metadata": {},
   "outputs": [],
   "source": [
    "import sql"
   ]
  },
  {
   "cell_type": "code",
   "execution_count": 2,
   "id": "d49a0bba-460a-4dbc-b27c-da3f9c29674a",
   "metadata": {},
   "outputs": [
    {
     "name": "stdout",
     "output_type": "stream",
     "text": [
      "<module 'sql' from '/Users/pengchuwei/jupysql/src/sql/__init__.py'>\n"
     ]
    }
   ],
   "source": [
    "print(sql)"
   ]
  },
  {
   "cell_type": "code",
   "execution_count": null,
   "id": "d0b5fa8a-99f3-4139-95b2-7730249348ff",
   "metadata": {},
   "outputs": [],
   "source": []
  }
 ],
 "metadata": {
  "kernelspec": {
   "display_name": "Python 3 (ipykernel)",
   "language": "python",
   "name": "python3"
  },
  "language_info": {
   "codemirror_mode": {
    "name": "ipython",
    "version": 3
   },
   "file_extension": ".py",
   "mimetype": "text/x-python",
   "name": "python",
   "nbconvert_exporter": "python",
   "pygments_lexer": "ipython3",
   "version": "3.10.9"
  }
 },
 "nbformat": 4,
 "nbformat_minor": 5
}
